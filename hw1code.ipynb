{
 "cells": [
  {
   "cell_type": "code",
   "execution_count": 2,
   "metadata": {},
   "outputs": [],
   "source": [
    "import pandas as pd\n",
    "import numpy as np\n",
    "from sklearn.neighbors import KNeighborsClassifier\n",
    "from sklearn.model_selection import train_test_split\n",
    "from sklearn.model_selection import cross_val_score, KFold, LeaveOneOut\n",
    "from sklearn.metrics import accuracy_score\n",
    "from sklearn.metrics import mean_squared_error\n",
    "import matplotlib.pyplot as plt\n",
    "from sklearn.neighbors import KNeighborsRegressor\n",
    "from sklearn.metrics import make_scorer"
   ]
  },
  {
   "cell_type": "code",
   "execution_count": 3,
   "metadata": {},
   "outputs": [
    {
     "data": {
      "text/html": [
       "<div>\n",
       "<style scoped>\n",
       "    .dataframe tbody tr th:only-of-type {\n",
       "        vertical-align: middle;\n",
       "    }\n",
       "\n",
       "    .dataframe tbody tr th {\n",
       "        vertical-align: top;\n",
       "    }\n",
       "\n",
       "    .dataframe thead th {\n",
       "        text-align: right;\n",
       "    }\n",
       "</style>\n",
       "<table border=\"1\" class=\"dataframe\">\n",
       "  <thead>\n",
       "    <tr style=\"text-align: right;\">\n",
       "      <th></th>\n",
       "      <th>label</th>\n",
       "      <th>message</th>\n",
       "    </tr>\n",
       "  </thead>\n",
       "  <tbody>\n",
       "    <tr>\n",
       "      <th>0</th>\n",
       "      <td>ham</td>\n",
       "      <td>Go until jurong point, crazy.. Available only ...</td>\n",
       "    </tr>\n",
       "    <tr>\n",
       "      <th>1</th>\n",
       "      <td>ham</td>\n",
       "      <td>Ok lar... Joking wif u oni...</td>\n",
       "    </tr>\n",
       "    <tr>\n",
       "      <th>2</th>\n",
       "      <td>spam</td>\n",
       "      <td>Free entry in 2 a wkly comp to win FA Cup fina...</td>\n",
       "    </tr>\n",
       "    <tr>\n",
       "      <th>3</th>\n",
       "      <td>ham</td>\n",
       "      <td>U dun say so early hor... U c already then say...</td>\n",
       "    </tr>\n",
       "    <tr>\n",
       "      <th>4</th>\n",
       "      <td>ham</td>\n",
       "      <td>Nah I don't think he goes to usf, he lives aro...</td>\n",
       "    </tr>\n",
       "    <tr>\n",
       "      <th>...</th>\n",
       "      <td>...</td>\n",
       "      <td>...</td>\n",
       "    </tr>\n",
       "    <tr>\n",
       "      <th>5567</th>\n",
       "      <td>spam</td>\n",
       "      <td>This is the 2nd time we have tried 2 contact u...</td>\n",
       "    </tr>\n",
       "    <tr>\n",
       "      <th>5568</th>\n",
       "      <td>ham</td>\n",
       "      <td>Will ü b going to esplanade fr home?</td>\n",
       "    </tr>\n",
       "    <tr>\n",
       "      <th>5569</th>\n",
       "      <td>ham</td>\n",
       "      <td>Pity, * was in mood for that. So...any other s...</td>\n",
       "    </tr>\n",
       "    <tr>\n",
       "      <th>5570</th>\n",
       "      <td>ham</td>\n",
       "      <td>The guy did some bitching but I acted like i'd...</td>\n",
       "    </tr>\n",
       "    <tr>\n",
       "      <th>5571</th>\n",
       "      <td>ham</td>\n",
       "      <td>Rofl. Its true to its name</td>\n",
       "    </tr>\n",
       "  </tbody>\n",
       "</table>\n",
       "<p>5572 rows × 2 columns</p>\n",
       "</div>"
      ],
      "text/plain": [
       "     label                                            message\n",
       "0      ham  Go until jurong point, crazy.. Available only ...\n",
       "1      ham                      Ok lar... Joking wif u oni...\n",
       "2     spam  Free entry in 2 a wkly comp to win FA Cup fina...\n",
       "3      ham  U dun say so early hor... U c already then say...\n",
       "4      ham  Nah I don't think he goes to usf, he lives aro...\n",
       "...    ...                                                ...\n",
       "5567  spam  This is the 2nd time we have tried 2 contact u...\n",
       "5568   ham               Will ü b going to esplanade fr home?\n",
       "5569   ham  Pity, * was in mood for that. So...any other s...\n",
       "5570   ham  The guy did some bitching but I acted like i'd...\n",
       "5571   ham                         Rofl. Its true to its name\n",
       "\n",
       "[5572 rows x 2 columns]"
      ]
     },
     "execution_count": 3,
     "metadata": {},
     "output_type": "execute_result"
    }
   ],
   "source": [
    "Spam_df = pd.read_csv(\"SMSSpamCollection.txt\", sep='\\t', header=None, names=['label', 'message'])\n",
    "Spam_df"
   ]
  },
  {
   "cell_type": "code",
   "execution_count": 22,
   "metadata": {},
   "outputs": [
    {
     "data": {
      "text/html": [
       "<div>\n",
       "<style scoped>\n",
       "    .dataframe tbody tr th:only-of-type {\n",
       "        vertical-align: middle;\n",
       "    }\n",
       "\n",
       "    .dataframe tbody tr th {\n",
       "        vertical-align: top;\n",
       "    }\n",
       "\n",
       "    .dataframe thead th {\n",
       "        text-align: right;\n",
       "    }\n",
       "</style>\n",
       "<table border=\"1\" class=\"dataframe\">\n",
       "  <thead>\n",
       "    <tr style=\"text-align: right;\">\n",
       "      <th></th>\n",
       "      <th>message_Length</th>\n",
       "      <th>capitals</th>\n",
       "      <th>numbers</th>\n",
       "    </tr>\n",
       "  </thead>\n",
       "  <tbody>\n",
       "    <tr>\n",
       "      <th>0</th>\n",
       "      <td>111</td>\n",
       "      <td>3</td>\n",
       "      <td>0</td>\n",
       "    </tr>\n",
       "    <tr>\n",
       "      <th>1</th>\n",
       "      <td>29</td>\n",
       "      <td>2</td>\n",
       "      <td>0</td>\n",
       "    </tr>\n",
       "    <tr>\n",
       "      <th>2</th>\n",
       "      <td>155</td>\n",
       "      <td>10</td>\n",
       "      <td>25</td>\n",
       "    </tr>\n",
       "    <tr>\n",
       "      <th>3</th>\n",
       "      <td>49</td>\n",
       "      <td>2</td>\n",
       "      <td>0</td>\n",
       "    </tr>\n",
       "    <tr>\n",
       "      <th>4</th>\n",
       "      <td>61</td>\n",
       "      <td>2</td>\n",
       "      <td>0</td>\n",
       "    </tr>\n",
       "    <tr>\n",
       "      <th>...</th>\n",
       "      <td>...</td>\n",
       "      <td>...</td>\n",
       "      <td>...</td>\n",
       "    </tr>\n",
       "    <tr>\n",
       "      <th>5567</th>\n",
       "      <td>160</td>\n",
       "      <td>9</td>\n",
       "      <td>21</td>\n",
       "    </tr>\n",
       "    <tr>\n",
       "      <th>5568</th>\n",
       "      <td>36</td>\n",
       "      <td>1</td>\n",
       "      <td>0</td>\n",
       "    </tr>\n",
       "    <tr>\n",
       "      <th>5569</th>\n",
       "      <td>57</td>\n",
       "      <td>2</td>\n",
       "      <td>0</td>\n",
       "    </tr>\n",
       "    <tr>\n",
       "      <th>5570</th>\n",
       "      <td>125</td>\n",
       "      <td>2</td>\n",
       "      <td>0</td>\n",
       "    </tr>\n",
       "    <tr>\n",
       "      <th>5571</th>\n",
       "      <td>26</td>\n",
       "      <td>2</td>\n",
       "      <td>0</td>\n",
       "    </tr>\n",
       "  </tbody>\n",
       "</table>\n",
       "<p>5572 rows × 3 columns</p>\n",
       "</div>"
      ],
      "text/plain": [
       "      message_Length  capitals  numbers\n",
       "0                111         3        0\n",
       "1                 29         2        0\n",
       "2                155        10       25\n",
       "3                 49         2        0\n",
       "4                 61         2        0\n",
       "...              ...       ...      ...\n",
       "5567             160         9       21\n",
       "5568              36         1        0\n",
       "5569              57         2        0\n",
       "5570             125         2        0\n",
       "5571              26         2        0\n",
       "\n",
       "[5572 rows x 3 columns]"
      ]
     },
     "execution_count": 22,
     "metadata": {},
     "output_type": "execute_result"
    }
   ],
   "source": [
    "#create features and labels\n",
    "# e.g length of message, number of capital letters\n",
    "# create X matrix from 3-4 features created\n",
    "Spam_df['message_Length'] = Spam_df['message'].str.len()\n",
    "Spam_df['capitals'] = Spam_df['message'].str.count(r'[A-Z]')\n",
    "Spam_df['numbers'] = Spam_df['message'].str.count(r'[0-9]')\n",
    "X = Spam_df[['message_Length', 'capitals', 'numbers']]\n",
    "X"
   ]
  },
  {
   "cell_type": "code",
   "execution_count": 23,
   "metadata": {},
   "outputs": [
    {
     "data": {
      "text/plain": [
       "0       0\n",
       "1       0\n",
       "2       1\n",
       "3       0\n",
       "4       0\n",
       "       ..\n",
       "5567    1\n",
       "5568    0\n",
       "5569    0\n",
       "5570    0\n",
       "5571    0\n",
       "Name: label, Length: 5572, dtype: int64"
      ]
     },
     "execution_count": 23,
     "metadata": {},
     "output_type": "execute_result"
    }
   ],
   "source": [
    "#convert labels to 0 and 1\n",
    "y = Spam_df['label'].map({'ham': 0, 'spam': 1})\n",
    "y"
   ]
  },
  {
   "cell_type": "code",
   "execution_count": 24,
   "metadata": {},
   "outputs": [],
   "source": [
    "#partition the dataset into a training set and testing set \n",
    "#using train_test_split\n",
    "#allocate 20% data for testing and random_state to 419\n",
    "X_train, X_test, y_train, y_test = train_test_split(X, y, test_size=0.2, random_state=419)"
   ]
  },
  {
   "cell_type": "code",
   "execution_count": 35,
   "metadata": {},
   "outputs": [
    {
     "data": {
      "text/plain": [
       "0.9757847533632287"
      ]
     },
     "execution_count": 35,
     "metadata": {},
     "output_type": "execute_result"
    }
   ],
   "source": [
    "#fit KNN classifier to training data using KNeighborsClassifier\n",
    "#use default parameters\n",
    "#find default k value\n",
    "#report accuravy on training and testing sets\n",
    "knn = KNeighborsClassifier()\n",
    "knn.fit(X_train, y_train)\n",
    "accuracy_train = accuracy_score(y_train, knn.predict(X_train))\n",
    "accuracy_test = accuracy_score(y_test, knn.predict(X_test))\n",
    "accuracy_train\n",
    "accuracy_test"
   ]
  },
  {
   "cell_type": "code",
   "execution_count": 36,
   "metadata": {},
   "outputs": [
    {
     "data": {
      "image/png": "[encoded data removed]",
      "text/plain": [
       "<Figure size 640x480 with 1 Axes>"
      ]
     },
     "metadata": {},
     "output_type": "display_data"
    }
   ],
   "source": [
    "#generate plot of training and testing error as functions of k (n_neighbors)\n",
    "#consider only odd values of k from 1-25 (1 - accuracy)\n",
    "ks = list(range(1, 26, 2))\n",
    "train_error = [1 - accuracy_score(y_train, KNeighborsClassifier(n_neighbors=k).fit(X_train, y_train).predict(X_train)) for k in ks]\n",
    "test_error = [1 - accuracy_score(y_test, KNeighborsClassifier(n_neighbors=k).fit(X_train, y_train).predict(X_test)) for k in ks]\n",
    "fig, ax = plt.subplots()\n",
    "ax.plot(ks, train_error, label='training error')\n",
    "ax.plot(ks, test_error, label='testing error')\n",
    "ax.set_xlabel('k')\n",
    "ax.set_ylabel('error')\n",
    "ax.legend()\n",
    "ax.invert_xaxis()\n",
    "plt.title(\"Training and Testing Error vs Number of Neighbors (k)\")\n",
    "plt.show()"
   ]
  },
  {
   "cell_type": "code",
   "execution_count": 38,
   "metadata": {},
   "outputs": [
    {
     "name": "stdout",
     "output_type": "stream",
     "text": [
      "Optimal k: 3\n"
     ]
    }
   ],
   "source": [
    "#recommend value of k for final model w rationale for choice\n",
    "min_test_error_index = np.argmin(test_error)\n",
    "optimal_k = ks[min_test_error_index]\n",
    "print(\"Optimal k:\", optimal_k)"
   ]
  },
  {
   "cell_type": "code",
   "execution_count": 4,
   "metadata": {},
   "outputs": [
    {
     "data": {
      "text/html": [
       "<div>\n",
       "<style scoped>\n",
       "    .dataframe tbody tr th:only-of-type {\n",
       "        vertical-align: middle;\n",
       "    }\n",
       "\n",
       "    .dataframe tbody tr th {\n",
       "        vertical-align: top;\n",
       "    }\n",
       "\n",
       "    .dataframe thead th {\n",
       "        text-align: right;\n",
       "    }\n",
       "</style>\n",
       "<table border=\"1\" class=\"dataframe\">\n",
       "  <thead>\n",
       "    <tr style=\"text-align: right;\">\n",
       "      <th></th>\n",
       "      <th>log_rent</th>\n",
       "      <th>log_area</th>\n",
       "      <th>sqrt_hoa</th>\n",
       "      <th>rooms</th>\n",
       "      <th>furnished</th>\n",
       "      <th>bathroom</th>\n",
       "      <th>animal_accept</th>\n",
       "    </tr>\n",
       "  </thead>\n",
       "  <tbody>\n",
       "    <tr>\n",
       "      <th>0</th>\n",
       "      <td>8.771835</td>\n",
       "      <td>5.298317</td>\n",
       "      <td>0.000000</td>\n",
       "      <td>4.0</td>\n",
       "      <td>0</td>\n",
       "      <td>5.0</td>\n",
       "      <td>1</td>\n",
       "    </tr>\n",
       "    <tr>\n",
       "      <th>1</th>\n",
       "      <td>8.714568</td>\n",
       "      <td>5.521461</td>\n",
       "      <td>0.000000</td>\n",
       "      <td>7.0</td>\n",
       "      <td>1</td>\n",
       "      <td>5.0</td>\n",
       "      <td>1</td>\n",
       "    </tr>\n",
       "    <tr>\n",
       "      <th>2</th>\n",
       "      <td>7.675082</td>\n",
       "      <td>4.174387</td>\n",
       "      <td>17.320508</td>\n",
       "      <td>1.0</td>\n",
       "      <td>0</td>\n",
       "      <td>1.0</td>\n",
       "      <td>1</td>\n",
       "    </tr>\n",
       "    <tr>\n",
       "      <th>3</th>\n",
       "      <td>9.678467</td>\n",
       "      <td>6.173786</td>\n",
       "      <td>0.000000</td>\n",
       "      <td>4.0</td>\n",
       "      <td>0</td>\n",
       "      <td>5.0</td>\n",
       "      <td>1</td>\n",
       "    </tr>\n",
       "    <tr>\n",
       "      <th>4</th>\n",
       "      <td>7.446585</td>\n",
       "      <td>4.007333</td>\n",
       "      <td>17.320508</td>\n",
       "      <td>2.0</td>\n",
       "      <td>0</td>\n",
       "      <td>1.0</td>\n",
       "      <td>1</td>\n",
       "    </tr>\n",
       "    <tr>\n",
       "      <th>...</th>\n",
       "      <td>...</td>\n",
       "      <td>...</td>\n",
       "      <td>...</td>\n",
       "      <td>...</td>\n",
       "      <td>...</td>\n",
       "      <td>...</td>\n",
       "      <td>...</td>\n",
       "    </tr>\n",
       "    <tr>\n",
       "      <th>4995</th>\n",
       "      <td>6.833032</td>\n",
       "      <td>3.761200</td>\n",
       "      <td>14.106736</td>\n",
       "      <td>2.0</td>\n",
       "      <td>0</td>\n",
       "      <td>1.0</td>\n",
       "      <td>1</td>\n",
       "    </tr>\n",
       "    <tr>\n",
       "      <th>4996</th>\n",
       "      <td>8.878637</td>\n",
       "      <td>5.117994</td>\n",
       "      <td>36.262929</td>\n",
       "      <td>3.0</td>\n",
       "      <td>0</td>\n",
       "      <td>3.0</td>\n",
       "      <td>1</td>\n",
       "    </tr>\n",
       "    <tr>\n",
       "      <th>4997</th>\n",
       "      <td>6.633318</td>\n",
       "      <td>2.708050</td>\n",
       "      <td>7.071068</td>\n",
       "      <td>1.0</td>\n",
       "      <td>0</td>\n",
       "      <td>1.0</td>\n",
       "      <td>1</td>\n",
       "    </tr>\n",
       "    <tr>\n",
       "      <th>4998</th>\n",
       "      <td>8.967759</td>\n",
       "      <td>5.480639</td>\n",
       "      <td>52.915026</td>\n",
       "      <td>4.0</td>\n",
       "      <td>0</td>\n",
       "      <td>4.0</td>\n",
       "      <td>1</td>\n",
       "    </tr>\n",
       "    <tr>\n",
       "      <th>4999</th>\n",
       "      <td>9.197052</td>\n",
       "      <td>5.298317</td>\n",
       "      <td>46.162756</td>\n",
       "      <td>4.0</td>\n",
       "      <td>0</td>\n",
       "      <td>3.0</td>\n",
       "      <td>1</td>\n",
       "    </tr>\n",
       "  </tbody>\n",
       "</table>\n",
       "<p>5000 rows × 7 columns</p>\n",
       "</div>"
      ],
      "text/plain": [
       "      log_rent  log_area   sqrt_hoa  rooms  furnished  bathroom  animal_accept\n",
       "0     8.771835  5.298317   0.000000    4.0          0       5.0              1\n",
       "1     8.714568  5.521461   0.000000    7.0          1       5.0              1\n",
       "2     7.675082  4.174387  17.320508    1.0          0       1.0              1\n",
       "3     9.678467  6.173786   0.000000    4.0          0       5.0              1\n",
       "4     7.446585  4.007333  17.320508    2.0          0       1.0              1\n",
       "...        ...       ...        ...    ...        ...       ...            ...\n",
       "4995  6.833032  3.761200  14.106736    2.0          0       1.0              1\n",
       "4996  8.878637  5.117994  36.262929    3.0          0       3.0              1\n",
       "4997  6.633318  2.708050   7.071068    1.0          0       1.0              1\n",
       "4998  8.967759  5.480639  52.915026    4.0          0       4.0              1\n",
       "4999  9.197052  5.298317  46.162756    4.0          0       3.0              1\n",
       "\n",
       "[5000 rows x 7 columns]"
      ]
     },
     "execution_count": 4,
     "metadata": {},
     "output_type": "execute_result"
    }
   ],
   "source": [
    "#Problem 8\n",
    "#load in data\n",
    "brazil_df = pd.read_csv(\"Brazil_rents_sm.csv\", sep=',')\n",
    "brazil_df = pd.DataFrame(brazil_df)\n",
    "brazil_df"
   ]
  },
  {
   "cell_type": "code",
   "execution_count": 14,
   "metadata": {},
   "outputs": [
    {
     "data": {
      "text/plain": [
       "0.32944334153283117"
      ]
     },
     "execution_count": 14,
     "metadata": {},
     "output_type": "execute_result"
    }
   ],
   "source": [
    "#use entire dataset to fit KNN regression model w k=10 using KNeighborsRegressor\n",
    "#report RMSE on training\n",
    "X = brazil_df.drop('log_rent', axis=1)\n",
    "y = brazil_df['log_rent']\n",
    "# X_train_r, X_test_r, y_train_r, y_test_r = train_test_split(X, y, test_size=0.2, random_state=419)\n",
    "knn_R = KNeighborsRegressor(n_neighbors=10)\n",
    "knn_R.fit(X, y)\n",
    "y_pred = knn_R.predict(X)\n",
    "np.sqrt(mean_squared_error(y, y_pred))"
   ]
  },
  {
   "cell_type": "code",
   "execution_count": 10,
   "metadata": {},
   "outputs": [
    {
     "data": {
      "text/plain": [
       "0.36673055122181125"
      ]
     },
     "execution_count": 10,
     "metadata": {},
     "output_type": "execute_result"
    }
   ],
   "source": [
    "#use 5-fold cross validation to estimate generalizeable RMSE\n",
    "#report mean RMSE\n",
    "rmse_score = np.sqrt(cross_val_score(knn_R, X, y, cv=5, scoring=make_scorer(mean_squared_error)))\n",
    "np.mean(rmse_score)"
   ]
  },
  {
   "cell_type": "code",
   "execution_count": 8,
   "metadata": {},
   "outputs": [
    {
     "name": "stdout",
     "output_type": "stream",
     "text": [
      "Mean and SD of Leave One Out: 0.28329434076050597, 0.2308290971820908\n",
      "Mean and SD of 10-fold: 0.36534446603094045, 0.014805604315608166\n",
      "Mean and SD of 50-fold: 0.36318039202610286, 0.03614862505124108\n",
      "Mean and SD of 20-fold: 0.3650529851768482, 0.021672086290301543\n",
      "[0.39051739 0.37112073 0.34330057 0.39085971 0.36283271 0.35167229\n",
      " 0.35765056 0.36482375 0.35380923 0.36685773]\n"
     ]
    }
   ],
   "source": [
    "# further estimate the generalizable RMSE using leave-one-out, \n",
    "#10-fold, 20-fold, and 50-fold cross-validation\n",
    "leave_out = np.sqrt(cross_val_score(knn_R, X, y, cv=LeaveOneOut(), scoring=make_scorer(mean_squared_error)))\n",
    "\n",
    "tenfold = np.sqrt(cross_val_score(knn_R, X, y, cv=10, scoring=make_scorer(mean_squared_error)))\n",
    "fiftyfold = np.sqrt(cross_val_score(knn_R, X, y, cv=50, scoring=make_scorer(mean_squared_error)))\n",
    "twentyfold = np.sqrt(cross_val_score(knn_R, X, y, cv=20, scoring=make_scorer(mean_squared_error)))\n",
    "print(f\"Mean and SD of Leave One Out: {np.mean(leave_out)}, {np.std(leave_out)}\")\n",
    "print(f\"Mean and SD of 10-fold: {np.mean(tenfold)}, {np.std(tenfold)}\")\n",
    "print(f\"Mean and SD of 50-fold: {np.mean(fiftyfold)}, {np.std(fiftyfold)}\")\n",
    "print(f\"Mean and SD of 20-fold: {np.mean(twentyfold)}, {np.std(twentyfold)}\")\n",
    "# compare mean and sd of errors for each technique, including 5-fold\n",
    "#summarize in plot or table w number of folds, mean error, and sd\n",
    "print(tenfold)"
   ]
  },
  {
   "cell_type": "code",
   "execution_count": 11,
   "metadata": {},
   "outputs": [
    {
     "data": {
      "image/png": "[encoded data removed]",
      "text/plain": [
       "<Figure size 640x480 with 1 Axes>"
      ]
     },
     "metadata": {},
     "output_type": "display_data"
    }
   ],
   "source": [
    "\n",
    "leave_out_mean, leave_out_std = np.mean(leave_out), np.std(leave_out)\n",
    "tenfold_mean, tenfold_std = np.mean(tenfold), np.std(tenfold)\n",
    "fiftyfold_mean, fiftyfold_std = np.mean(fiftyfold), np.std(fiftyfold)\n",
    "twentyfold_mean, twentyfold_std = np.mean(twentyfold), np.std(twentyfold)\n",
    "fivefold_mean, fivefold_std = np.mean(rmse_score), np.std(rmse_score)\n",
    "labels = ['Leave One Out', '10-fold', '50-fold', '20-fold']\n",
    "means = [leave_out_mean, tenfold_mean, fiftyfold_mean, twentyfold_mean]\n",
    "stds = [leave_out_std, tenfold_std, fiftyfold_std, twentyfold_std]\n",
    "fig, ax = plt.subplots()\n",
    "ax.errorbar(labels, means, yerr=stds, alpha=0.7, fmt='o')\n",
    "ax.set_ylabel('Mean RMSE')\n",
    "ax.set_title('Cross-Validation Comparison')\n",
    "plt.show()"
   ]
  },
  {
   "cell_type": "code",
   "execution_count": 13,
   "metadata": {},
   "outputs": [
    {
     "data": {
      "image/png": "[encoded data removed]",
      "text/plain": [
       "<Figure size 640x480 with 1 Axes>"
      ]
     },
     "metadata": {},
     "output_type": "display_data"
    }
   ],
   "source": [
    "x = np.arange(len(labels))\n",
    "width = 0.35\n",
    "\n",
    "fig, ax = plt.subplots()\n",
    "rects1 = ax.bar(x - width/2, means, width, label='Mean', yerr=stds, capsize=5)\n",
    "ax.set_ylabel('RMSE')\n",
    "ax.set_title('Cross-Validation Comparison')\n",
    "ax.set_xticks(x)\n",
    "ax.set_xticklabels(labels)\n",
    "ax.legend()\n",
    "\n",
    "fig.tight_layout()\n",
    "plt.show()"
   ]
  },
  {
   "cell_type": "code",
   "execution_count": 31,
   "metadata": {},
   "outputs": [
    {
     "name": "stdout",
     "output_type": "stream",
     "text": [
      "0.3710233604321221\n"
     ]
    }
   ],
   "source": [
    "#partition dataset into training and testing sets\n",
    "#use train_test_split\n",
    "#allocate 20% for testing and random_state to 307\n",
    "#report RMSE on training and testing sets\n",
    "X_train_b, X_test_b, y_train_b, y_test_b = train_test_split(X, y, test_size=0.2, random_state=307)\n",
    "knn_R = KNeighborsRegressor(n_neighbors=10)\n",
    "knn_R.fit(X_train_b, y_train_b)\n",
    "y_pred = knn_R.predict(X_test_b)\n",
    "rmse_1 = np.sqrt(mean_squared_error(y_test_b, y_pred))\n",
    "print(rmse_1)"
   ]
  },
  {
   "cell_type": "code",
   "execution_count": 29,
   "metadata": {},
   "outputs": [
    {
     "name": "stdout",
     "output_type": "stream",
     "text": [
      "0.3607177244285942\n"
     ]
    }
   ],
   "source": [
    "#repeat above but with different training set (still 20%) and diff random_state\n",
    "#report RMSE on training and testing sets\n",
    "#discuss findings, draw comparisons between test error and cross-validated estimates\n",
    "X_train_b_1, X_test_b_1, y_train_b_1, y_test_b_1 = train_test_split(X, y, test_size=0.2, random_state=210)\n",
    "knn_R = KNeighborsRegressor(n_neighbors=10)\n",
    "knn_R.fit(X_train_b_1, y_train_b_1)\n",
    "y_pred = knn_R.predict(X_test_b_1)\n",
    "rmse_2 = np.sqrt(mean_squared_error(y_test_b_1, y_pred))\n",
    "print(rmse_2)"
   ]
  }
 ],
 "metadata": {
  "kernelspec": {
   "display_name": "Python 3",
   "language": "python",
   "name": "python3"
  },
  "language_info": {
   "codemirror_mode": {
    "name": "ipython",
    "version": 3
   },
   "file_extension": ".py",
   "mimetype": "text/x-python",
   "name": "python",
   "nbconvert_exporter": "python",
   "pygments_lexer": "ipython3",
   "version": "3.11.5"
  }
 },
 "nbformat": 4,
 "nbformat_minor": 2
}
